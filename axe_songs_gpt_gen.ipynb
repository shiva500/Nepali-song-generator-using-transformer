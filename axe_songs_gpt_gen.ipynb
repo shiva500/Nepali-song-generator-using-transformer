{
  "nbformat": 4,
  "nbformat_minor": 0,
  "metadata": {
    "colab": {
      "provenance": [],
      "include_colab_link": true
    },
    "kernelspec": {
      "name": "python3",
      "display_name": "Python 3"
    },
    "language_info": {
      "name": "python"
    }
  },
  "cells": [
    {
      "cell_type": "markdown",
      "metadata": {
        "id": "view-in-github",
        "colab_type": "text"
      },
      "source": [
        "<a href=\"https://colab.research.google.com/github/shiva500/Nepsongs/blob/main/axe_songs_gpt_gen.ipynb\" target=\"_parent\"><img src=\"https://colab.research.google.com/assets/colab-badge.svg\" alt=\"Open In Colab\"/></a>"
      ]
    },
    {
      "cell_type": "markdown",
      "source": [
        "## Building a GPT\n",
        "\n",
        "Companion notebook to the [Zero To Hero](https://karpathy.ai/zero-to-hero.html) video on GPT."
      ],
      "metadata": {
        "id": "wJpXpmjEYC_T"
      }
    },
    {
      "cell_type": "code",
      "execution_count": 13,
      "metadata": {
        "colab": {
          "base_uri": "https://localhost:8080/"
        },
        "id": "h5hjCcLDr2WC",
        "outputId": "d3aa55f0-5ed6-40af-a02e-e06c37a8bf8b"
      },
      "outputs": [
        {
          "output_type": "stream",
          "name": "stdout",
          "text": [
            "--2023-06-07 18:02:32--  https://raw.githubusercontent.com/shiva500/Nepsongs/main/input.txt\n",
            "Resolving raw.githubusercontent.com (raw.githubusercontent.com)... 185.199.111.133, 185.199.109.133, 185.199.108.133, ...\n",
            "Connecting to raw.githubusercontent.com (raw.githubusercontent.com)|185.199.111.133|:443... connected.\n",
            "HTTP request sent, awaiting response... 200 OK\n",
            "Length: 8369 (8.2K) [text/plain]\n",
            "Saving to: ‘input.txt’\n",
            "\n",
            "\rinput.txt             0%[                    ]       0  --.-KB/s               \rinput.txt           100%[===================>]   8.17K  --.-KB/s    in 0s      \n",
            "\n",
            "2023-06-07 18:02:32 (46.8 MB/s) - ‘input.txt’ saved [8369/8369]\n",
            "\n"
          ]
        }
      ],
      "source": [
        "# We always start with a dataset to train on. Let's download the tiny shakespeare dataset\n",
        "!wget https://raw.githubusercontent.com/shiva500/Nepsongs/main/input.txt\n"
      ]
    },
    {
      "cell_type": "code",
      "source": [
        "# read it in to inspect it\n",
        "with open('input.txt', 'r', encoding='utf-8') as f:\n",
        "    text = f.read()"
      ],
      "metadata": {
        "id": "O6medjfRsLD9"
      },
      "execution_count": 15,
      "outputs": []
    },
    {
      "cell_type": "code",
      "source": [
        "print(\"length of dataset in characters: \", len(text))"
      ],
      "metadata": {
        "colab": {
          "base_uri": "https://localhost:8080/"
        },
        "id": "6xWI_VyAsN8F",
        "outputId": "b3e47496-7ca9-4aa2-b1fb-b69a7be1d329"
      },
      "execution_count": 16,
      "outputs": [
        {
          "output_type": "stream",
          "name": "stdout",
          "text": [
            "length of dataset in characters:  3256\n"
          ]
        }
      ]
    },
    {
      "cell_type": "code",
      "source": [
        "# let's look at the first 1000 characters\n",
        "print(text[:1000])"
      ],
      "metadata": {
        "colab": {
          "base_uri": "https://localhost:8080/"
        },
        "id": "2c5V0FvqseE0",
        "outputId": "0b9d11af-fe0b-4641-f5b8-7fc3eab604d8"
      },
      "execution_count": 17,
      "outputs": [
        {
          "output_type": "stream",
          "name": "stdout",
          "text": [
            "देखे तिमिलाइ हिजो हे रति सपनी मा\n",
            "बिपानी मा भेटे को थियान डन्डा परी मा\n",
            "देखे तिमिलाइ हिजो हे रति सपनी मा\n",
            "बिपानी मा भेटे को थियान डन्डा परी मा\n",
            "हो..डांडा परी मा छौत्राई मा-२\n",
            "चिया बारी मा – २\n",
            "छाउबन्दी चोली रा टिमरो रातो रिबाना\n",
            "ढाका सादी मा मस्केरा हिन्द, चोरौ यो मन\n",
            "उकाली रा ओराली गर्दाइ पन्धेरी मा\n",
            "चोरी मुतु सुतक्का मान को माझेरी मा\n",
            "मा ढेरी मा – २\n",
            "हो...डाँडा परी मा छौत्रै मा-२\n",
            "चिया बारी मा – २\n",
            "\n",
            "देउराली को भञ्ज्यागा मै\n",
            "बार पिपल को छहरी मा प्रीति गानसौ ला\n",
            "कान्छी तिमिलै डोली मा छडै पञ्चे बाजा मा\n",
            "लैजाउं ला राखौ ला तिमिलाइ मुतु मेरो मा\n",
            "मुतु माझा मा – २\n",
            "हो...डाँडा परी मा छौत्रै मा-२\n",
            "चिया बारी मा – २\n",
            "\n",
            "देखे तिमिलाइ हिजो हे रति सपनी मा\n",
            "बिपानी मा भेटे को थियान डन्डा परी मा\n",
            "देखे तिमिलाइ हिजो हे रति सपनी मा\n",
            "बिपानी मा भेटे को थियान डन्डा परी मा\n",
            "हो..डांडा परी मा छौत्राई मा-२\n",
            "चिया बारी मा – २\n",
            "डण्डा परी मा छौत्राई मा-२\n",
            "चिया बारी मा\n",
            "\n",
            "आउता चिठी को सहारा ले\n",
            "टिमरो मान जितना चाहन्ना मा\n",
            "आउता चिठी को सहारा ले\n",
            "टिमरो मान जितना चाहन्ना मा\n",
            "माया कागज मा हुन्न\n",
            "यो द्वि आत्मा को मेला हो\n",
            "माया कागज मा हुन्न\n",
            "यो द्वि आत्मा को\n"
          ]
        }
      ]
    },
    {
      "cell_type": "code",
      "source": [],
      "metadata": {
        "id": "yvCDm4Hv_X_B"
      },
      "execution_count": null,
      "outputs": []
    },
    {
      "cell_type": "code",
      "source": [
        "# here are all the unique characters that occur in this text\n",
        "chars = sorted(list(set(text)))\n",
        "vocab_size = len(chars)\n",
        "print(''.join(chars))\n",
        "print(vocab_size)"
      ],
      "metadata": {
        "colab": {
          "base_uri": "https://localhost:8080/"
        },
        "id": "0e-Rbyr8sfM8",
        "outputId": "9ece5981-bf54-4e5f-c253-e956388f1537"
      },
      "execution_count": 18,
      "outputs": [
        {
          "output_type": "stream",
          "name": "stdout",
          "text": [
            "\n",
            " ,-.ँंअआइईउएओकखगघङचछजझञटठडढणतथदधनपफबभमयरलवशसहािीुृेैोौ्२–…\n",
            "59\n"
          ]
        }
      ]
    },
    {
      "cell_type": "code",
      "source": [
        "# create a mapping from characters to integers\n",
        "stoi = { ch:i for i,ch in enumerate(chars) }\n",
        "itos = { i:ch for i,ch in enumerate(chars) }\n",
        "encode = lambda s: [stoi[c] for c in s] # encoder: take a string, output a list of integers\n",
        "decode = lambda l: ''.join([itos[i] for i in l]) # decoder: take a list of integers, output a string\n",
        "\n",
        "print(encode(\"देखे तिमिलाइ हिजो\"))\n",
        "print(decode(encode(\"देखे तिमिलाइ हिजो\")))"
      ],
      "metadata": {
        "colab": {
          "base_uri": "https://localhost:8080/"
        },
        "id": "Yw1LKNCgwjj1",
        "outputId": "c81430d9-5f9b-40dc-e1ed-81b7f4e49f2c"
      },
      "execution_count": 20,
      "outputs": [
        {
          "output_type": "stream",
          "name": "stdout",
          "text": [
            "[31, 51, 15, 51, 1, 29, 47, 38, 47, 41, 46, 9, 1, 45, 47, 21, 53]\n",
            "देखे तिमिलाइ हिजो\n"
          ]
        }
      ]
    },
    {
      "cell_type": "code",
      "source": [
        "# let's now encode the entire text dataset and store it into a torch.Tensor\n",
        "import torch # we use PyTorch: https://pytorch.org\n",
        "data = torch.tensor(encode(text), dtype=torch.long)\n",
        "print(data.shape, data.dtype)\n",
        "print(data[:1000]) # the 1000 characters we looked at earier will to the GPT look like this"
      ],
      "metadata": {
        "colab": {
          "base_uri": "https://localhost:8080/"
        },
        "id": "YJb0OXPwzvqg",
        "outputId": "9e3fadc1-6c6e-4874-8a1c-ef666f471943"
      },
      "execution_count": 21,
      "outputs": [
        {
          "output_type": "stream",
          "name": "stdout",
          "text": [
            "torch.Size([3256]) torch.int64\n",
            "tensor([31, 51, 15, 51,  1, 29, 47, 38, 47, 41, 46,  9,  1, 45, 47, 21, 53,  1,\n",
            "        45, 51,  1, 40, 29, 47,  1, 44, 34, 33, 48,  1, 38, 46,  0, 36, 47, 34,\n",
            "        46, 33, 48,  1, 38, 46,  1, 37, 51, 24, 51,  1, 14, 53,  1, 30, 47, 39,\n",
            "        46, 33,  1, 26, 33, 55, 26, 46,  1, 34, 40, 48,  1, 38, 46,  0, 31, 51,\n",
            "        15, 51,  1, 29, 47, 38, 47, 41, 46,  9,  1, 45, 47, 21, 53,  1, 45, 51,\n",
            "         1, 40, 29, 47,  1, 44, 34, 33, 48,  1, 38, 46,  0, 36, 47, 34, 46, 33,\n",
            "        48,  1, 38, 46,  1, 37, 51, 24, 51,  1, 14, 53,  1, 30, 47, 39, 46, 33,\n",
            "         1, 26, 33, 55, 26, 46,  1, 34, 40, 48,  1, 38, 46,  0, 45, 53,  4,  4,\n",
            "        26, 46,  6, 26, 46,  1, 34, 40, 48,  1, 38, 46,  1, 20, 54, 29, 55, 40,\n",
            "        46, 10,  1, 38, 46,  3, 56,  0, 19, 47, 39, 46,  1, 36, 46, 40, 48,  1,\n",
            "        38, 46,  1, 57,  1, 56,  0, 20, 46, 11, 36, 33, 55, 31, 48,  1, 19, 53,\n",
            "        41, 48,  1, 40, 46,  1, 24, 47, 38, 40, 53,  1, 40, 46, 29, 53,  1, 40,\n",
            "        47, 36, 46, 33, 46,  0, 27, 46, 14, 46,  1, 44, 46, 31, 48,  1, 38, 46,\n",
            "         1, 38, 44, 55, 14, 51, 40, 46,  1, 45, 47, 33, 55, 31,  2,  1, 19, 53,\n",
            "        40, 54,  1, 39, 53,  1, 38, 33,  0, 11, 14, 46, 41, 48,  1, 40, 46,  1,\n",
            "        13, 40, 46, 41, 48,  1, 16, 40, 55, 31, 46,  9,  1, 34, 33, 55, 32, 51,\n",
            "        40, 48,  1, 38, 46,  0, 19, 53, 40, 48,  1, 38, 49, 29, 49,  1, 44, 49,\n",
            "        29, 14, 55, 14, 46,  1, 38, 46, 33,  1, 14, 53,  1, 38, 46, 22, 51, 40,\n",
            "        48,  1, 38, 46,  0, 38, 46,  1, 27, 51, 40, 48,  1, 38, 46,  1, 57,  1,\n",
            "        56,  0, 45, 53,  4,  4,  4, 26, 46,  5, 26, 46,  1, 34, 40, 48,  1, 38,\n",
            "        46,  1, 20, 54, 29, 55, 40, 52,  1, 38, 46,  3, 56,  0, 19, 47, 39, 46,\n",
            "         1, 36, 46, 40, 48,  1, 38, 46,  1, 57,  1, 56,  0,  0, 31, 51, 11, 40,\n",
            "        46, 41, 48,  1, 14, 53,  1, 37, 23, 55, 21, 55, 39, 46, 16, 46,  1, 38,\n",
            "        52,  0, 36, 46, 40,  1, 34, 47, 34, 41,  1, 14, 53,  1, 20, 45, 40, 48,\n",
            "         1, 38, 46,  1, 34, 55, 40, 48, 29, 47,  1, 16, 46, 33, 44, 54,  1, 41,\n",
            "        46,  0, 14, 46, 33, 55, 20, 48,  1, 29, 47, 38, 47, 41, 52,  1, 26, 53,\n",
            "        41, 48,  1, 38, 46,  1, 20, 26, 52,  1, 34, 23, 55, 19, 51,  1, 36, 46,\n",
            "        21, 46,  1, 38, 46,  0, 41, 52, 21, 46, 11,  6,  1, 41, 46,  1, 40, 46,\n",
            "        15, 54,  1, 41, 46,  1, 29, 47, 38, 47, 41, 46,  9,  1, 38, 49, 29, 49,\n",
            "         1, 38, 51, 40, 53,  1, 38, 46,  0, 38, 49, 29, 49,  1, 38, 46, 22, 46,\n",
            "         1, 38, 46,  1, 57,  1, 56,  0, 45, 53,  4,  4,  4, 26, 46,  5, 26, 46,\n",
            "         1, 34, 40, 48,  1, 38, 46,  1, 20, 54, 29, 55, 40, 52,  1, 38, 46,  3,\n",
            "        56,  0, 19, 47, 39, 46,  1, 36, 46, 40, 48,  1, 38, 46,  1, 57,  1, 56,\n",
            "         0,  0, 31, 51, 15, 51,  1, 29, 47, 38, 47, 41, 46,  9,  1, 45, 47, 21,\n",
            "        53,  1, 45, 51,  1, 40, 29, 47,  1, 44, 34, 33, 48,  1, 38, 46,  0, 36,\n",
            "        47, 34, 46, 33, 48,  1, 38, 46,  1, 37, 51, 24, 51,  1, 14, 53,  1, 30,\n",
            "        47, 39, 46, 33,  1, 26, 33, 55, 26, 46,  1, 34, 40, 48,  1, 38, 46,  0,\n",
            "        31, 51, 15, 51,  1, 29, 47, 38, 47, 41, 46,  9,  1, 45, 47, 21, 53,  1,\n",
            "        45, 51,  1, 40, 29, 47,  1, 44, 34, 33, 48,  1, 38, 46,  0, 36, 47, 34,\n",
            "        46, 33, 48,  1, 38, 46,  1, 37, 51, 24, 51,  1, 14, 53,  1, 30, 47, 39,\n",
            "        46, 33,  1, 26, 33, 55, 26, 46,  1, 34, 40, 48,  1, 38, 46,  0, 45, 53,\n",
            "         4,  4, 26, 46,  6, 26, 46,  1, 34, 40, 48,  1, 38, 46,  1, 20, 54, 29,\n",
            "        55, 40, 46, 10,  1, 38, 46,  3, 56,  0, 19, 47, 39, 46,  1, 36, 46, 40,\n",
            "        48,  1, 38, 46,  1, 57,  1, 56,  0, 26, 28, 55, 26, 46,  1, 34, 40, 48,\n",
            "         1, 38, 46,  1, 20, 54, 29, 55, 40, 46, 10,  1, 38, 46,  3, 56,  0, 19,\n",
            "        47, 39, 46,  1, 36, 46, 40, 48,  1, 38, 46,  0,  0,  8, 11, 29, 46,  1,\n",
            "        19, 47, 25, 48,  1, 14, 53,  1, 44, 45, 46, 40, 46,  1, 41, 51,  0, 24,\n",
            "        47, 38, 40, 53,  1, 38, 46, 33,  1, 21, 47, 29, 33, 46,  1, 19, 46, 45,\n",
            "        33, 55, 33, 46,  1, 38, 46,  0,  8, 11, 29, 46,  1, 19, 47, 25, 48,  1,\n",
            "        14, 53,  1, 44, 45, 46, 40, 46,  1, 41, 51,  0, 24, 47, 38, 40, 53,  1,\n",
            "        38, 46, 33,  1, 21, 47, 29, 33, 46,  1, 19, 46, 45, 33, 55, 33, 46,  1,\n",
            "        38, 46,  0, 38, 46, 39, 46,  1, 14, 46, 16, 21,  1, 38, 46,  1, 45, 49,\n",
            "        33, 55, 33,  0, 39, 53,  1, 31, 55, 42, 47,  1,  8, 29, 55, 38, 46,  1,\n",
            "        14, 53,  1, 38, 51, 41, 46,  1, 45, 53,  0, 38, 46, 39, 46,  1, 14, 46,\n",
            "        16, 21,  1, 38, 46,  1, 45, 49, 33, 55, 33,  0, 39, 53,  1, 31, 55, 42,\n",
            "        47,  1,  8, 29, 55, 38, 46,  1, 14, 53])\n"
          ]
        }
      ]
    },
    {
      "cell_type": "code",
      "source": [
        "# Let's now split up the data into train and validation sets\n",
        "n = int(0.9*len(data)) # first 90% will be train, rest val\n",
        "train_data = data[:n]\n",
        "val_data = data[n:]"
      ],
      "metadata": {
        "id": "f_WIXqxz0lU5"
      },
      "execution_count": 31,
      "outputs": []
    },
    {
      "cell_type": "code",
      "source": [
        "block_size = 8\n",
        "train_data[:block_size+1]"
      ],
      "metadata": {
        "colab": {
          "base_uri": "https://localhost:8080/"
        },
        "id": "TD5Bj8Y6IAD4",
        "outputId": "95cc6c91-9013-40ec-cefd-647296f6e55e"
      },
      "execution_count": 32,
      "outputs": [
        {
          "output_type": "execute_result",
          "data": {
            "text/plain": [
              "tensor([31, 51, 15, 51,  1, 29, 47, 38, 47])"
            ]
          },
          "metadata": {},
          "execution_count": 32
        }
      ]
    },
    {
      "cell_type": "code",
      "source": [
        "x = train_data[:block_size]\n",
        "y = train_data[1:block_size+1]\n",
        "for t in range(block_size):\n",
        "    context = x[:t+1]\n",
        "    target = y[t]\n",
        "    print(f\"when input is {context} the target: {target}\")"
      ],
      "metadata": {
        "colab": {
          "base_uri": "https://localhost:8080/"
        },
        "id": "9HXDe8vGJCEn",
        "outputId": "278ff830-2e8e-44d3-8415-da69dbcde1cb"
      },
      "execution_count": 24,
      "outputs": [
        {
          "output_type": "stream",
          "name": "stdout",
          "text": [
            "when input is tensor([31]) the target: 51\n",
            "when input is tensor([31, 51]) the target: 15\n",
            "when input is tensor([31, 51, 15]) the target: 51\n",
            "when input is tensor([31, 51, 15, 51]) the target: 1\n",
            "when input is tensor([31, 51, 15, 51,  1]) the target: 29\n",
            "when input is tensor([31, 51, 15, 51,  1, 29]) the target: 47\n",
            "when input is tensor([31, 51, 15, 51,  1, 29, 47]) the target: 38\n",
            "when input is tensor([31, 51, 15, 51,  1, 29, 47, 38]) the target: 47\n"
          ]
        }
      ]
    },
    {
      "cell_type": "code",
      "source": [
        "torch.manual_seed(1337)\n",
        "batch_size = 4 # how many independent sequences will we process in parallel?\n",
        "block_size = 8 # what is the maximum context length for predictions?\n",
        "\n",
        "def get_batch(split):\n",
        "    # generate a small batch of data of inputs x and targets y\n",
        "    data = train_data if split == 'train' else val_data\n",
        "    ix = torch.randint(len(data) - block_size, (batch_size,))\n",
        "    x = torch.stack([data[i:i+block_size] for i in ix])\n",
        "    y = torch.stack([data[i+1:i+block_size+1] for i in ix])\n",
        "    return x, y\n",
        "\n",
        "xb, yb = get_batch('train')\n",
        "print('inputs:')\n",
        "print(xb.shape)\n",
        "print(xb)\n",
        "print('targets:')\n",
        "print(yb.shape)\n",
        "print(yb)\n",
        "\n",
        "print('----')\n",
        "\n",
        "for b in range(batch_size): # batch dimension\n",
        "    for t in range(block_size): # time dimension\n",
        "        context = xb[b, :t+1]\n",
        "        target = yb[b,t]\n",
        "        print(f\"when input is {context.tolist()} the target: {target}\")"
      ],
      "metadata": {
        "colab": {
          "base_uri": "https://localhost:8080/"
        },
        "id": "Q3k1Czf7LuA9",
        "outputId": "9413216c-c002-472b-b759-42fa4d8ac226"
      },
      "execution_count": 33,
      "outputs": [
        {
          "output_type": "stream",
          "name": "stdout",
          "text": [
            "inputs:\n",
            "torch.Size([4, 8])\n",
            "tensor([[44, 55, 14, 47,  6, 31, 46,  2],\n",
            "        [33, 48,  1, 38, 46,  1, 37, 51],\n",
            "        [47, 38, 47, 41, 46,  9,  1, 45],\n",
            "        [ 1, 33, 46, 19, 55, 39, 53,  1]])\n",
            "targets:\n",
            "torch.Size([4, 8])\n",
            "tensor([[55, 14, 47,  6, 31, 46,  2,  1],\n",
            "        [48,  1, 38, 46,  1, 37, 51, 24],\n",
            "        [38, 47, 41, 46,  9,  1, 45, 47],\n",
            "        [33, 46, 19, 55, 39, 53,  1, 44]])\n",
            "----\n",
            "when input is [44] the target: 55\n",
            "when input is [44, 55] the target: 14\n",
            "when input is [44, 55, 14] the target: 47\n",
            "when input is [44, 55, 14, 47] the target: 6\n",
            "when input is [44, 55, 14, 47, 6] the target: 31\n",
            "when input is [44, 55, 14, 47, 6, 31] the target: 46\n",
            "when input is [44, 55, 14, 47, 6, 31, 46] the target: 2\n",
            "when input is [44, 55, 14, 47, 6, 31, 46, 2] the target: 1\n",
            "when input is [33] the target: 48\n",
            "when input is [33, 48] the target: 1\n",
            "when input is [33, 48, 1] the target: 38\n",
            "when input is [33, 48, 1, 38] the target: 46\n",
            "when input is [33, 48, 1, 38, 46] the target: 1\n",
            "when input is [33, 48, 1, 38, 46, 1] the target: 37\n",
            "when input is [33, 48, 1, 38, 46, 1, 37] the target: 51\n",
            "when input is [33, 48, 1, 38, 46, 1, 37, 51] the target: 24\n",
            "when input is [47] the target: 38\n",
            "when input is [47, 38] the target: 47\n",
            "when input is [47, 38, 47] the target: 41\n",
            "when input is [47, 38, 47, 41] the target: 46\n",
            "when input is [47, 38, 47, 41, 46] the target: 9\n",
            "when input is [47, 38, 47, 41, 46, 9] the target: 1\n",
            "when input is [47, 38, 47, 41, 46, 9, 1] the target: 45\n",
            "when input is [47, 38, 47, 41, 46, 9, 1, 45] the target: 47\n",
            "when input is [1] the target: 33\n",
            "when input is [1, 33] the target: 46\n",
            "when input is [1, 33, 46] the target: 19\n",
            "when input is [1, 33, 46, 19] the target: 55\n",
            "when input is [1, 33, 46, 19, 55] the target: 39\n",
            "when input is [1, 33, 46, 19, 55, 39] the target: 53\n",
            "when input is [1, 33, 46, 19, 55, 39, 53] the target: 1\n",
            "when input is [1, 33, 46, 19, 55, 39, 53, 1] the target: 44\n"
          ]
        }
      ]
    },
    {
      "cell_type": "code",
      "source": [
        "print(xb) # our input to the transformer"
      ],
      "metadata": {
        "colab": {
          "base_uri": "https://localhost:8080/"
        },
        "id": "qpyyAeIzQjlO",
        "outputId": "8c97006a-dbab-49f3-b5a0-070c3b19aa1b"
      },
      "execution_count": 26,
      "outputs": [
        {
          "output_type": "stream",
          "name": "stdout",
          "text": [
            "tensor([[44, 55, 14, 47,  6, 31, 46,  2],\n",
            "        [33, 48,  1, 38, 46,  1, 37, 51],\n",
            "        [47, 38, 47, 41, 46,  9,  1, 45],\n",
            "        [ 1, 33, 46, 19, 55, 39, 53,  1]])\n"
          ]
        }
      ]
    },
    {
      "cell_type": "code",
      "source": [
        "import torch\n",
        "import torch.nn as nn\n",
        "from torch.nn import functional as F\n",
        "torch.manual_seed(1337)\n",
        "\n",
        "class BigramLanguageModel(nn.Module):\n",
        "\n",
        "    def __init__(self, vocab_size):\n",
        "        super().__init__()\n",
        "        # each token directly reads off the logits for the next token from a lookup table\n",
        "        self.token_embedding_table = nn.Embedding(vocab_size, vocab_size)\n",
        "\n",
        "    def forward(self, idx, targets=None):\n",
        "\n",
        "        # idx and targets are both (B,T) tensor of integers\n",
        "        logits = self.token_embedding_table(idx) # (B,T,C)\n",
        "        \n",
        "        if targets is None:\n",
        "            loss = None\n",
        "        else:\n",
        "            B, T, C = logits.shape\n",
        "            logits = logits.view(B*T, C)\n",
        "            targets = targets.view(B*T)\n",
        "            loss = F.cross_entropy(logits, targets)\n",
        "\n",
        "        return logits, loss\n",
        "    \n",
        "    def generate(self, idx, max_new_tokens):\n",
        "        # idx is (B, T) array of indices in the current context\n",
        "        for _ in range(max_new_tokens):\n",
        "            # get the predictions\n",
        "            logits, loss = self(idx)\n",
        "            # focus only on the last time step\n",
        "            logits = logits[:, -1, :] # becomes (B, C)\n",
        "            # apply softmax to get probabilities\n",
        "            probs = F.softmax(logits, dim=-1) # (B, C)\n",
        "            # sample from the distribution\n",
        "            idx_next = torch.multinomial(probs, num_samples=1) # (B, 1)\n",
        "            # append sampled index to the running sequence\n",
        "            idx = torch.cat((idx, idx_next), dim=1) # (B, T+1)\n",
        "        return idx\n",
        "\n",
        "m = BigramLanguageModel(vocab_size)\n",
        "logits, loss = m(xb, yb)\n",
        "print(logits.shape)\n",
        "print(loss)\n",
        "\n",
        "print(decode(m.generate(idx = torch.zeros((1, 1), dtype=torch.long), max_new_tokens=100)[0].tolist()))\n"
      ],
      "metadata": {
        "colab": {
          "base_uri": "https://localhost:8080/"
        },
        "id": "nql_1ER53oCf",
        "outputId": "32575b53-345a-42b7-e69d-34f60e64e99b"
      },
      "execution_count": 27,
      "outputs": [
        {
          "output_type": "stream",
          "name": "stdout",
          "text": [
            "torch.Size([32, 59])\n",
            "tensor(4.6603, grad_fn=<NllLossBackward0>)\n",
            "\n",
            "घहैृओृलँघलिभ२ुौ–मतीरथैख\n",
            "चठहभृउईइ र\n",
            "वझतइयुलरलधपिै.चकडखहिीोए-अ जढंझेौ ृु,उलश\n",
            "दौलज२आंभडथ\n",
            "गँ.ुेटु…जध–ोँण\n"
          ]
        }
      ]
    },
    {
      "cell_type": "code",
      "source": [
        "# create a PyTorch optimizer\n",
        "optimizer = torch.optim.AdamW(m.parameters(), lr=1e-3)"
      ],
      "metadata": {
        "id": "eTyJ8qAaDdiF"
      },
      "execution_count": 34,
      "outputs": []
    },
    {
      "cell_type": "code",
      "source": [
        "batch_size = 32\n",
        "for steps in range(10000): # increase number of steps for good results... \n",
        "    \n",
        "    # sample a batch of data\n",
        "    xb, yb = get_batch('train')\n",
        "\n",
        "    # evaluate the loss\n",
        "    logits, loss = m(xb, yb)\n",
        "    optimizer.zero_grad(set_to_none=True)\n",
        "    loss.backward()\n",
        "    optimizer.step()\n",
        "\n",
        "print(loss.item())\n"
      ],
      "metadata": {
        "colab": {
          "base_uri": "https://localhost:8080/"
        },
        "id": "Hs4kI8YdEkQj",
        "outputId": "8f1ee49c-6c44-4878-8b99-ca4fe2e4c791"
      },
      "execution_count": 38,
      "outputs": [
        {
          "output_type": "stream",
          "name": "stdout",
          "text": [
            "1.9976385831832886\n"
          ]
        }
      ]
    },
    {
      "cell_type": "code",
      "source": [
        "print(decode(m.generate(idx = torch.zeros((1, 1), dtype=torch.long), max_new_tokens=500)[0].tolist()))"
      ],
      "metadata": {
        "colab": {
          "base_uri": "https://localhost:8080/"
        },
        "id": "EcVIDWAZEtjN",
        "outputId": "654b7e49-74ea-4a26-8116-8085a1a34f54"
      },
      "execution_count": 39,
      "outputs": [
        {
          "output_type": "stream",
          "name": "stdout",
          "text": [
            "\n",
            "माउते मराँडाकोजिमा ली २\n",
            "आउबुका कान्ड मेउत्रो मरो पालै हो पो मिमिपा\n",
            "\n",
            "मे थिसो देटिला\n",
            "\n",
            "यान्नारी मा लकेरी को तन्फु झे मान्छौंगजो मा\n",
            "टिजसो भोलछी मि बोला-लाइ नेर त मा बो को सायो…\n",
            "तिमिता म्दे हे\n",
            "बि हिठी – केखेला भन्न्न्मिपराया उतुझिलकिमराल्कान्सा मसंड जा सो तृ दी मझ्को हितमाइ ल्या थिलु\n",
            "त्ध्दे, झायाउंडा खा च्ंडै मिमा\n",
            "चा गज झ्नाद्या रवि रा\n",
            "हन\n",
            "या ला मिया, लान्र्है को\n",
            "ब मा पञ्वि चोरोजसाइ २\n",
            "रोला जण्र्यालो, किपानी थिसो…\n",
            "हा मानार्.. रा त्दी ले ले झि मा\n",
            "भा बि.डा माडारो – हन्न्न\n",
            "\n",
            "सा उंगरी क – परो मानजा कोला मि \n"
          ]
        }
      ]
    },
    {
      "cell_type": "markdown",
      "source": [
        "## The mathematical trick in self-attention"
      ],
      "metadata": {
        "id": "XinV8nmAnmKN"
      }
    },
    {
      "cell_type": "code",
      "source": [
        "# toy example illustrating how matrix multiplication can be used for a \"weighted aggregation\"\n",
        "torch.manual_seed(42)\n",
        "a = torch.tril(torch.ones(3, 3))\n",
        "a = a / torch.sum(a, 1, keepdim=True)\n",
        "b = torch.randint(0,10,(3,2)).float()\n",
        "c = a @ b\n",
        "print('a=')\n",
        "print(a)\n",
        "print('--')\n",
        "print('b=')\n",
        "print(b)\n",
        "print('--')\n",
        "print('c=')\n",
        "print(c)"
      ],
      "metadata": {
        "colab": {
          "base_uri": "https://localhost:8080/"
        },
        "id": "tukiH-NbRBhA",
        "outputId": "5b4a1053-41ee-4985-8b55-64dba4c38e6b"
      },
      "execution_count": 40,
      "outputs": [
        {
          "output_type": "stream",
          "name": "stdout",
          "text": [
            "a=\n",
            "tensor([[1.0000, 0.0000, 0.0000],\n",
            "        [0.5000, 0.5000, 0.0000],\n",
            "        [0.3333, 0.3333, 0.3333]])\n",
            "--\n",
            "b=\n",
            "tensor([[2., 7.],\n",
            "        [6., 4.],\n",
            "        [6., 5.]])\n",
            "--\n",
            "c=\n",
            "tensor([[2.0000, 7.0000],\n",
            "        [4.0000, 5.5000],\n",
            "        [4.6667, 5.3333]])\n"
          ]
        }
      ]
    },
    {
      "cell_type": "code",
      "source": [
        "# consider the following toy example:\n",
        "\n",
        "torch.manual_seed(1337)\n",
        "B,T,C = 4,8,2 # batch, time, channels\n",
        "x = torch.randn(B,T,C)\n",
        "x.shape"
      ],
      "metadata": {
        "colab": {
          "base_uri": "https://localhost:8080/"
        },
        "id": "Hs_E24uRE8kr",
        "outputId": "0c04c479-0fe8-4bc3-d667-260aaea91a06"
      },
      "execution_count": 41,
      "outputs": [
        {
          "output_type": "execute_result",
          "data": {
            "text/plain": [
              "torch.Size([4, 8, 2])"
            ]
          },
          "metadata": {},
          "execution_count": 41
        }
      ]
    },
    {
      "cell_type": "code",
      "source": [
        "# We want x[b,t] = mean_{i<=t} x[b,i]\n",
        "xbow = torch.zeros((B,T,C))\n",
        "for b in range(B):\n",
        "    for t in range(T):\n",
        "        xprev = x[b,:t+1] # (t,C)\n",
        "        xbow[b,t] = torch.mean(xprev, 0)\n"
      ],
      "metadata": {
        "id": "86NuXX0fn7ps"
      },
      "execution_count": 42,
      "outputs": []
    },
    {
      "cell_type": "code",
      "source": [
        "# version 2: using matrix multiply for a weighted aggregation\n",
        "wei = torch.tril(torch.ones(T, T))\n",
        "wei = wei / wei.sum(1, keepdim=True)\n",
        "xbow2 = wei @ x # (B, T, T) @ (B, T, C) ----> (B, T, C)\n",
        "torch.allclose(xbow, xbow2)"
      ],
      "metadata": {
        "colab": {
          "base_uri": "https://localhost:8080/"
        },
        "id": "yhdOAd6-wXkZ",
        "outputId": "16fdc9f7-7f09-4bf6-d8d2-9d84a7e8f9d5"
      },
      "execution_count": 43,
      "outputs": [
        {
          "output_type": "execute_result",
          "data": {
            "text/plain": [
              "True"
            ]
          },
          "metadata": {},
          "execution_count": 43
        }
      ]
    },
    {
      "cell_type": "code",
      "source": [
        "# version 3: use Softmax\n",
        "tril = torch.tril(torch.ones(T, T))\n",
        "wei = torch.zeros((T,T))\n",
        "wei = wei.masked_fill(tril == 0, float('-inf'))\n",
        "wei = F.softmax(wei, dim=-1)\n",
        "xbow3 = wei @ x\n",
        "torch.allclose(xbow, xbow3)\n"
      ],
      "metadata": {
        "colab": {
          "base_uri": "https://localhost:8080/"
        },
        "id": "wOURrfG-ysoL",
        "outputId": "e1ab8764-4a18-4c9c-d080-e720d93a1583"
      },
      "execution_count": 44,
      "outputs": [
        {
          "output_type": "execute_result",
          "data": {
            "text/plain": [
              "True"
            ]
          },
          "metadata": {},
          "execution_count": 44
        }
      ]
    },
    {
      "cell_type": "code",
      "source": [
        "# version 4: self-attention!\n",
        "torch.manual_seed(1337)\n",
        "B,T,C = 4,8,32 # batch, time, channels\n",
        "x = torch.randn(B,T,C)\n",
        "\n",
        "# let's see a single Head perform self-attention\n",
        "head_size = 16\n",
        "key = nn.Linear(C, head_size, bias=False)\n",
        "query = nn.Linear(C, head_size, bias=False)\n",
        "value = nn.Linear(C, head_size, bias=False)\n",
        "k = key(x)   # (B, T, 16)\n",
        "q = query(x) # (B, T, 16)\n",
        "wei =  q @ k.transpose(-2, -1) # (B, T, 16) @ (B, 16, T) ---> (B, T, T)\n",
        "\n",
        "tril = torch.tril(torch.ones(T, T))\n",
        "#wei = torch.zeros((T,T))\n",
        "wei = wei.masked_fill(tril == 0, float('-inf'))\n",
        "wei = F.softmax(wei, dim=-1)\n",
        "\n",
        "v = value(x)\n",
        "out = wei @ v\n",
        "#out = wei @ x\n",
        "\n",
        "out.shape"
      ],
      "metadata": {
        "colab": {
          "base_uri": "https://localhost:8080/"
        },
        "id": "EDarxEWIRMKq",
        "outputId": "ed06a124-b49c-4cd7-cb48-cf51e309ab3c"
      },
      "execution_count": 45,
      "outputs": [
        {
          "output_type": "execute_result",
          "data": {
            "text/plain": [
              "torch.Size([4, 8, 16])"
            ]
          },
          "metadata": {},
          "execution_count": 45
        }
      ]
    },
    {
      "cell_type": "code",
      "source": [
        "wei[0]"
      ],
      "metadata": {
        "colab": {
          "base_uri": "https://localhost:8080/"
        },
        "id": "vT1hdtzXCjgL",
        "outputId": "6d2c569b-7922-451f-9934-0fc564678d17"
      },
      "execution_count": null,
      "outputs": [
        {
          "output_type": "execute_result",
          "data": {
            "text/plain": [
              "tensor([[1.0000, 0.0000, 0.0000, 0.0000, 0.0000, 0.0000, 0.0000, 0.0000],\n",
              "        [0.1574, 0.8426, 0.0000, 0.0000, 0.0000, 0.0000, 0.0000, 0.0000],\n",
              "        [0.2088, 0.1646, 0.6266, 0.0000, 0.0000, 0.0000, 0.0000, 0.0000],\n",
              "        [0.5792, 0.1187, 0.1889, 0.1131, 0.0000, 0.0000, 0.0000, 0.0000],\n",
              "        [0.0294, 0.1052, 0.0469, 0.0276, 0.7909, 0.0000, 0.0000, 0.0000],\n",
              "        [0.0176, 0.2689, 0.0215, 0.0089, 0.6812, 0.0019, 0.0000, 0.0000],\n",
              "        [0.1691, 0.4066, 0.0438, 0.0416, 0.1048, 0.2012, 0.0329, 0.0000],\n",
              "        [0.0210, 0.0843, 0.0555, 0.2297, 0.0573, 0.0709, 0.2423, 0.2391]],\n",
              "       grad_fn=<SelectBackward0>)"
            ]
          },
          "metadata": {},
          "execution_count": 23
        }
      ]
    },
    {
      "cell_type": "markdown",
      "source": [
        "Notes:\n",
        "- Attention is a **communication mechanism**. Can be seen as nodes in a directed graph looking at each other and aggregating information with a weighted sum from all nodes that point to them, with data-dependent weights.\n",
        "- There is no notion of space. Attention simply acts over a set of vectors. This is why we need to positionally encode tokens.\n",
        "- Each example across batch dimension is of course processed completely independently and never \"talk\" to each other\n",
        "- In an \"encoder\" attention block just delete the single line that does masking with `tril`, allowing all tokens to communicate. This block here is called a \"decoder\" attention block because it has triangular masking, and is usually used in autoregressive settings, like language modeling.\n",
        "- \"self-attention\" just means that the keys and values are produced from the same source as queries. In \"cross-attention\", the queries still get produced from x, but the keys and values come from some other, external source (e.g. an encoder module)\n",
        "- \"Scaled\" attention additional divides `wei` by 1/sqrt(head_size). This makes it so when input Q,K are unit variance, wei will be unit variance too and Softmax will stay diffuse and not saturate too much. Illustration below"
      ],
      "metadata": {
        "id": "M5CvobiQ0pLr"
      }
    },
    {
      "cell_type": "code",
      "source": [
        "k = torch.randn(B,T,head_size)\n",
        "q = torch.randn(B,T,head_size)\n",
        "wei = q @ k.transpose(-2, -1) * head_size**-0.5"
      ],
      "metadata": {
        "id": "4SNbLq5z3oBw"
      },
      "execution_count": 46,
      "outputs": []
    },
    {
      "cell_type": "code",
      "source": [
        "k.var()"
      ],
      "metadata": {
        "colab": {
          "base_uri": "https://localhost:8080/"
        },
        "id": "Nl6I9n9IRTSo",
        "outputId": "50469aed-0389-4c7b-db59-1ec8c860daba"
      },
      "execution_count": 47,
      "outputs": [
        {
          "output_type": "execute_result",
          "data": {
            "text/plain": [
              "tensor(1.0449)"
            ]
          },
          "metadata": {},
          "execution_count": 47
        }
      ]
    },
    {
      "cell_type": "code",
      "source": [
        "q.var()"
      ],
      "metadata": {
        "colab": {
          "base_uri": "https://localhost:8080/"
        },
        "id": "T1tQx7oeRvtc",
        "outputId": "40c43138-54c7-4210-e481-e8064e1b9422"
      },
      "execution_count": 48,
      "outputs": [
        {
          "output_type": "execute_result",
          "data": {
            "text/plain": [
              "tensor(1.0700)"
            ]
          },
          "metadata": {},
          "execution_count": 48
        }
      ]
    },
    {
      "cell_type": "code",
      "source": [
        "wei.var()"
      ],
      "metadata": {
        "colab": {
          "base_uri": "https://localhost:8080/"
        },
        "id": "MLb_odHU3iKM",
        "outputId": "0afd425c-4734-48cb-e489-e9f8f165d218"
      },
      "execution_count": 49,
      "outputs": [
        {
          "output_type": "execute_result",
          "data": {
            "text/plain": [
              "tensor(1.0918)"
            ]
          },
          "metadata": {},
          "execution_count": 49
        }
      ]
    },
    {
      "cell_type": "code",
      "source": [
        "torch.softmax(torch.tensor([0.1, -0.2, 0.3, -0.2, 0.5]), dim=-1)"
      ],
      "metadata": {
        "colab": {
          "base_uri": "https://localhost:8080/"
        },
        "id": "JB82yzt44REI",
        "outputId": "b1e133ca-ef8d-4d2a-d4d1-2a1898a33b80"
      },
      "execution_count": 50,
      "outputs": [
        {
          "output_type": "execute_result",
          "data": {
            "text/plain": [
              "tensor([0.1925, 0.1426, 0.2351, 0.1426, 0.2872])"
            ]
          },
          "metadata": {},
          "execution_count": 50
        }
      ]
    },
    {
      "cell_type": "code",
      "source": [
        "torch.softmax(torch.tensor([0.1, -0.2, 0.3, -0.2, 0.5])*8, dim=-1) # gets too peaky, converges to one-hot"
      ],
      "metadata": {
        "colab": {
          "base_uri": "https://localhost:8080/"
        },
        "id": "Mpt8569BB9_f",
        "outputId": "d5e116d1-835f-4132-ee30-ea205b10e409"
      },
      "execution_count": 51,
      "outputs": [
        {
          "output_type": "execute_result",
          "data": {
            "text/plain": [
              "tensor([0.0326, 0.0030, 0.1615, 0.0030, 0.8000])"
            ]
          },
          "metadata": {},
          "execution_count": 51
        }
      ]
    },
    {
      "cell_type": "code",
      "source": [
        "class LayerNorm1d: # (used to be BatchNorm1d)\n",
        "  \n",
        "  def __init__(self, dim, eps=1e-5, momentum=0.1):\n",
        "    self.eps = eps\n",
        "    self.gamma = torch.ones(dim)\n",
        "    self.beta = torch.zeros(dim)\n",
        "  \n",
        "  def __call__(self, x):\n",
        "    # calculate the forward pass\n",
        "    xmean = x.mean(1, keepdim=True) # batch mean\n",
        "    xvar = x.var(1, keepdim=True) # batch variance\n",
        "    xhat = (x - xmean) / torch.sqrt(xvar + self.eps) # normalize to unit variance\n",
        "    self.out = self.gamma * xhat + self.beta\n",
        "    return self.out\n",
        "  \n",
        "  def parameters(self):\n",
        "    return [self.gamma, self.beta]\n",
        "\n",
        "torch.manual_seed(1337)\n",
        "module = LayerNorm1d(100)\n",
        "x = torch.randn(32, 100) # batch size 32 of 100-dimensional vectors\n",
        "x = module(x)\n",
        "x.shape"
      ],
      "metadata": {
        "colab": {
          "base_uri": "https://localhost:8080/"
        },
        "id": "2Num7sX9CKOH",
        "outputId": "b4f5c406-dd14-4e8f-e820-1e3d1684a922"
      },
      "execution_count": 52,
      "outputs": [
        {
          "output_type": "execute_result",
          "data": {
            "text/plain": [
              "torch.Size([32, 100])"
            ]
          },
          "metadata": {},
          "execution_count": 52
        }
      ]
    },
    {
      "cell_type": "code",
      "source": [
        "x[:,0].mean(), x[:,0].std() # mean,std of one feature across all batch inputs"
      ],
      "metadata": {
        "colab": {
          "base_uri": "https://localhost:8080/"
        },
        "id": "633T2cmnW1uk",
        "outputId": "7f3cd70d-393b-406a-b737-944cad08eec0"
      },
      "execution_count": 53,
      "outputs": [
        {
          "output_type": "execute_result",
          "data": {
            "text/plain": [
              "(tensor(0.1469), tensor(0.8803))"
            ]
          },
          "metadata": {},
          "execution_count": 53
        }
      ]
    },
    {
      "cell_type": "code",
      "source": [
        "x[0,:].mean(), x[0,:].std() # mean,std of a single input from the batch, of its features"
      ],
      "metadata": {
        "colab": {
          "base_uri": "https://localhost:8080/"
        },
        "id": "LN9cK9BoXCYb",
        "outputId": "f01814d9-3257-491f-adb4-863d24bb55bc"
      },
      "execution_count": 54,
      "outputs": [
        {
          "output_type": "execute_result",
          "data": {
            "text/plain": [
              "(tensor(-9.5367e-09), tensor(1.0000))"
            ]
          },
          "metadata": {},
          "execution_count": 54
        }
      ]
    },
    {
      "cell_type": "code",
      "source": [
        "# French to English translation example:\n",
        "\n",
        "# <--------- ENCODE ------------------><--------------- DECODE ----------------->\n",
        "# les réseaux de neurones sont géniaux! <START> neural networks are awesome!<END>\n",
        "\n"
      ],
      "metadata": {
        "id": "dRJH6wM_XFfU"
      },
      "execution_count": null,
      "outputs": []
    },
    {
      "cell_type": "markdown",
      "source": [
        "### Full finished code, for reference\n",
        "\n",
        "You may want to refer directly to the git repo instead though."
      ],
      "metadata": {
        "id": "ZcvKeBXoZFOY"
      }
    },
    {
      "cell_type": "code",
      "source": [
        "import torch\n",
        "import torch.nn as nn\n",
        "from torch.nn import functional as F\n",
        "\n",
        "# hyperparameters\n",
        "batch_size = 16 # how many independent sequences will we process in parallel?\n",
        "block_size = 32 # what is the maximum context length for predictions?\n",
        "max_iters = 5000\n",
        "eval_interval = 100\n",
        "learning_rate = 1e-3\n",
        "device = 'cuda' if torch.cuda.is_available() else 'cpu'\n",
        "eval_iters = 200\n",
        "n_embd = 64\n",
        "n_head = 4\n",
        "n_layer = 4\n",
        "dropout = 0.0\n",
        "# ------------\n",
        "\n",
        "torch.manual_seed(1337)\n",
        "\n",
        "# wget https://raw.githubusercontent.com/karpathy/char-rnn/master/data/tinyshakespeare/input.txt\n",
        "with open('input.txt', 'r', encoding='utf-8') as f:\n",
        "    text = f.read()\n",
        "\n",
        "# here are all the unique characters that occur in this text\n",
        "chars = sorted(list(set(text)))\n",
        "vocab_size = len(chars)\n",
        "# create a mapping from characters to integers\n",
        "stoi = { ch:i for i,ch in enumerate(chars) }\n",
        "itos = { i:ch for i,ch in enumerate(chars) }\n",
        "encode = lambda s: [stoi[c] for c in s] # encoder: take a string, output a list of integers\n",
        "decode = lambda l: ''.join([itos[i] for i in l]) # decoder: take a list of integers, output a string\n",
        "\n",
        "# Train and test splits\n",
        "data = torch.tensor(encode(text), dtype=torch.long)\n",
        "n = int(0.9*len(data)) # first 90% will be train, rest val\n",
        "train_data = data[:n]\n",
        "val_data = data[n:]\n",
        "\n",
        "# data loading\n",
        "def get_batch(split):\n",
        "    # generate a small batch of data of inputs x and targets y\n",
        "    data = train_data if split == 'train' else val_data\n",
        "    ix = torch.randint(len(data) - block_size, (batch_size,))\n",
        "    x = torch.stack([data[i:i+block_size] for i in ix])\n",
        "    y = torch.stack([data[i+1:i+block_size+1] for i in ix])\n",
        "    x, y = x.to(device), y.to(device)\n",
        "    return x, y\n",
        "\n",
        "@torch.no_grad()\n",
        "def estimate_loss():\n",
        "    out = {}\n",
        "    model.eval()\n",
        "    for split in ['train', 'val']:\n",
        "        losses = torch.zeros(eval_iters)\n",
        "        for k in range(eval_iters):\n",
        "            X, Y = get_batch(split)\n",
        "            logits, loss = model(X, Y)\n",
        "            losses[k] = loss.item()\n",
        "        out[split] = losses.mean()\n",
        "    model.train()\n",
        "    return out\n",
        "\n",
        "class Head(nn.Module):\n",
        "    \"\"\" one head of self-attention \"\"\"\n",
        "\n",
        "    def __init__(self, head_size):\n",
        "        super().__init__()\n",
        "        self.key = nn.Linear(n_embd, head_size, bias=False)\n",
        "        self.query = nn.Linear(n_embd, head_size, bias=False)\n",
        "        self.value = nn.Linear(n_embd, head_size, bias=False)\n",
        "        self.register_buffer('tril', torch.tril(torch.ones(block_size, block_size)))\n",
        "\n",
        "        self.dropout = nn.Dropout(dropout)\n",
        "\n",
        "    def forward(self, x):\n",
        "        B,T,C = x.shape\n",
        "        k = self.key(x)   # (B,T,C)\n",
        "        q = self.query(x) # (B,T,C)\n",
        "        # compute attention scores (\"affinities\")\n",
        "        wei = q @ k.transpose(-2,-1) * C**-0.5 # (B, T, C) @ (B, C, T) -> (B, T, T)\n",
        "        wei = wei.masked_fill(self.tril[:T, :T] == 0, float('-inf')) # (B, T, T)\n",
        "        wei = F.softmax(wei, dim=-1) # (B, T, T)\n",
        "        wei = self.dropout(wei)\n",
        "        # perform the weighted aggregation of the values\n",
        "        v = self.value(x) # (B,T,C)\n",
        "        out = wei @ v # (B, T, T) @ (B, T, C) -> (B, T, C)\n",
        "        return out\n",
        "\n",
        "class MultiHeadAttention(nn.Module):\n",
        "    \"\"\" multiple heads of self-attention in parallel \"\"\"\n",
        "\n",
        "    def __init__(self, num_heads, head_size):\n",
        "        super().__init__()\n",
        "        self.heads = nn.ModuleList([Head(head_size) for _ in range(num_heads)])\n",
        "        self.proj = nn.Linear(n_embd, n_embd)\n",
        "        self.dropout = nn.Dropout(dropout)\n",
        "\n",
        "    def forward(self, x):\n",
        "        out = torch.cat([h(x) for h in self.heads], dim=-1)\n",
        "        out = self.dropout(self.proj(out))\n",
        "        return out\n",
        "\n",
        "class FeedFoward(nn.Module):\n",
        "    \"\"\" a simple linear layer followed by a non-linearity \"\"\"\n",
        "\n",
        "    def __init__(self, n_embd):\n",
        "        super().__init__()\n",
        "        self.net = nn.Sequential(\n",
        "            nn.Linear(n_embd, 4 * n_embd),\n",
        "            nn.ReLU(),\n",
        "            nn.Linear(4 * n_embd, n_embd),\n",
        "            nn.Dropout(dropout),\n",
        "        )\n",
        "\n",
        "    def forward(self, x):\n",
        "        return self.net(x)\n",
        "\n",
        "class Block(nn.Module):\n",
        "    \"\"\" Transformer block: communication followed by computation \"\"\"\n",
        "\n",
        "    def __init__(self, n_embd, n_head):\n",
        "        # n_embd: embedding dimension, n_head: the number of heads we'd like\n",
        "        super().__init__()\n",
        "        head_size = n_embd // n_head\n",
        "        self.sa = MultiHeadAttention(n_head, head_size)\n",
        "        self.ffwd = FeedFoward(n_embd)\n",
        "        self.ln1 = nn.LayerNorm(n_embd)\n",
        "        self.ln2 = nn.LayerNorm(n_embd)\n",
        "\n",
        "    def forward(self, x):\n",
        "        x = x + self.sa(self.ln1(x))\n",
        "        x = x + self.ffwd(self.ln2(x))\n",
        "        return x\n",
        "\n",
        "# super simple bigram model\n",
        "class BigramLanguageModel(nn.Module):\n",
        "\n",
        "    def __init__(self):\n",
        "        super().__init__()\n",
        "        # each token directly reads off the logits for the next token from a lookup table\n",
        "        self.token_embedding_table = nn.Embedding(vocab_size, n_embd)\n",
        "        self.position_embedding_table = nn.Embedding(block_size, n_embd)\n",
        "        self.blocks = nn.Sequential(*[Block(n_embd, n_head=n_head) for _ in range(n_layer)])\n",
        "        self.ln_f = nn.LayerNorm(n_embd) # final layer norm\n",
        "        self.lm_head = nn.Linear(n_embd, vocab_size)\n",
        "\n",
        "    def forward(self, idx, targets=None):\n",
        "        B, T = idx.shape\n",
        "\n",
        "        # idx and targets are both (B,T) tensor of integers\n",
        "        tok_emb = self.token_embedding_table(idx) # (B,T,C)\n",
        "        pos_emb = self.position_embedding_table(torch.arange(T, device=device)) # (T,C)\n",
        "        x = tok_emb + pos_emb # (B,T,C)\n",
        "        x = self.blocks(x) # (B,T,C)\n",
        "        x = self.ln_f(x) # (B,T,C)\n",
        "        logits = self.lm_head(x) # (B,T,vocab_size)\n",
        "\n",
        "        if targets is None:\n",
        "            loss = None\n",
        "        else:\n",
        "            B, T, C = logits.shape\n",
        "            logits = logits.view(B*T, C)\n",
        "            targets = targets.view(B*T)\n",
        "            loss = F.cross_entropy(logits, targets)\n",
        "\n",
        "        return logits, loss\n",
        "\n",
        "    def generate(self, idx, max_new_tokens):\n",
        "        # idx is (B, T) array of indices in the current context\n",
        "        for _ in range(max_new_tokens):\n",
        "            # crop idx to the last block_size tokens\n",
        "            idx_cond = idx[:, -block_size:]\n",
        "            # get the predictions\n",
        "            logits, loss = self(idx_cond)\n",
        "            # focus only on the last time step\n",
        "            logits = logits[:, -1, :] # becomes (B, C)\n",
        "            # apply softmax to get probabilities\n",
        "            probs = F.softmax(logits, dim=-1) # (B, C)\n",
        "            # sample from the distribution\n",
        "            idx_next = torch.multinomial(probs, num_samples=1) # (B, 1)\n",
        "            # append sampled index to the running sequence\n",
        "            idx = torch.cat((idx, idx_next), dim=1) # (B, T+1)\n",
        "        return idx\n",
        "\n",
        "model = BigramLanguageModel()\n",
        "m = model.to(device)\n",
        "# print the number of parameters in the model\n",
        "print(sum(p.numel() for p in m.parameters())/1e6, 'M parameters')\n",
        "\n",
        "# create a PyTorch optimizer\n",
        "optimizer = torch.optim.AdamW(model.parameters(), lr=learning_rate)\n",
        "\n",
        "for iter in range(max_iters):\n",
        "\n",
        "    # every once in a while evaluate the loss on train and val sets\n",
        "    if iter % eval_interval == 0 or iter == max_iters - 1:\n",
        "        losses = estimate_loss()\n",
        "        print(f\"step {iter}: train loss {losses['train']:.4f}, val loss {losses['val']:.4f}\")\n",
        "\n",
        "    # sample a batch of data\n",
        "    xb, yb = get_batch('train')\n",
        "\n",
        "    # evaluate the loss\n",
        "    logits, loss = model(xb, yb)\n",
        "    optimizer.zero_grad(set_to_none=True)\n",
        "    loss.backward()\n",
        "    optimizer.step()\n",
        "\n",
        "# generate from the model\n",
        "context = torch.zeros((1, 1), dtype=torch.long, device=device)\n",
        "print(decode(m.generate(context, max_new_tokens=2000)[0].tolist()))\n"
      ],
      "metadata": {
        "colab": {
          "base_uri": "https://localhost:8080/"
        },
        "id": "hoelkOrFY8bN",
        "outputId": "6f4353b7-e8e4-485e-cc67-192b279e1e60"
      },
      "execution_count": 55,
      "outputs": [
        {
          "output_type": "stream",
          "name": "stdout",
          "text": [
            "0.208955 M parameters\n",
            "step 0: train loss 4.2458, val loss 4.2221\n",
            "step 100: train loss 2.2483, val loss 2.3148\n",
            "step 200: train loss 1.9629, val loss 2.1141\n",
            "step 300: train loss 1.5092, val loss 1.7468\n",
            "step 400: train loss 1.0769, val loss 1.4338\n",
            "step 500: train loss 0.7570, val loss 1.1601\n",
            "step 600: train loss 0.5088, val loss 1.0257\n",
            "step 700: train loss 0.3729, val loss 0.8782\n",
            "step 800: train loss 0.3139, val loss 0.8402\n",
            "step 900: train loss 0.2698, val loss 0.7307\n",
            "step 1000: train loss 0.2462, val loss 0.7979\n",
            "step 1100: train loss 0.2365, val loss 0.7916\n",
            "step 1200: train loss 0.2224, val loss 0.8002\n",
            "step 1300: train loss 0.2152, val loss 0.7701\n",
            "step 1400: train loss 0.2047, val loss 0.7707\n",
            "step 1500: train loss 0.2049, val loss 0.7780\n",
            "step 1600: train loss 0.1968, val loss 0.7934\n",
            "step 1700: train loss 0.1910, val loss 0.7447\n",
            "step 1800: train loss 0.1915, val loss 0.8340\n",
            "step 1900: train loss 0.1944, val loss 0.8569\n",
            "step 2000: train loss 0.1900, val loss 0.8174\n",
            "step 2100: train loss 0.1840, val loss 0.7593\n",
            "step 2200: train loss 0.1900, val loss 0.8075\n",
            "step 2300: train loss 0.1782, val loss 0.7711\n",
            "step 2400: train loss 0.1850, val loss 0.8291\n",
            "step 2500: train loss 0.1776, val loss 0.8103\n",
            "step 2600: train loss 0.1881, val loss 0.8159\n",
            "step 2700: train loss 0.1735, val loss 0.7864\n",
            "step 2800: train loss 0.1722, val loss 0.7878\n",
            "step 2900: train loss 0.1713, val loss 0.8238\n",
            "step 3000: train loss 0.1769, val loss 0.7371\n",
            "step 3100: train loss 0.1753, val loss 0.8394\n",
            "step 3200: train loss 0.1717, val loss 0.8406\n",
            "step 3300: train loss 0.1726, val loss 0.8737\n",
            "step 3400: train loss 0.1707, val loss 0.7977\n",
            "step 3500: train loss 0.1689, val loss 0.8282\n",
            "step 3600: train loss 0.1697, val loss 0.8067\n",
            "step 3700: train loss 0.1685, val loss 0.8097\n",
            "step 3800: train loss 0.1726, val loss 0.8209\n",
            "step 3900: train loss 0.1713, val loss 0.8021\n",
            "step 4000: train loss 0.1644, val loss 0.8298\n",
            "step 4100: train loss 0.1684, val loss 0.7839\n",
            "step 4200: train loss 0.1644, val loss 0.8732\n",
            "step 4300: train loss 0.1786, val loss 0.8116\n",
            "step 4400: train loss 0.1746, val loss 0.7705\n",
            "step 4500: train loss 0.1657, val loss 0.8630\n",
            "step 4600: train loss 0.1631, val loss 0.8501\n",
            "step 4700: train loss 0.1658, val loss 0.8158\n",
            "step 4800: train loss 0.1626, val loss 0.8157\n",
            "step 4900: train loss 0.1643, val loss 0.8330\n",
            "step 4999: train loss 0.1657, val loss 0.7720\n",
            "\n",
            "उकाली रा ओराली गर्दाइ पन्धेरी मा\n",
            "चोरी मुतु सुतक्का मान को माझेरी मा\n",
            "मा ढेरी मा – २\n",
            "हो...डाँडा परी मा छौत्रै मा-२\n",
            "चिया बारी मा – २\n",
            "\n",
            "देउराली को भञ्ज्यागब मै हुसंोग लाइ मा हुण्डा छ\n",
            "तिमि अरु संआति हिमा\n",
            "लीसो जाने चौकी मात्र हुनछ – २\n",
            "अरु संग जीवन बितानु\n",
            "त्यो त समझौता मात्र हुनछ – २\n",
            "कागज मा लेखी माया लैन्दा न\n",
            "भागा को लेखा मात्र पायिन्छा\n",
            "देखेर दुखाइँ\n",
            "त्यसै ले तिमि... लाइ…\n",
            "आउता चिठी को सहारा ले\n",
            "टिमरो मान जितना चाहन्ना मा\n",
            "माया कागज मा हुन्न\n",
            "यो द्वि आत्मा को मेला हो\n",
            "माया कागज मा हुन्न\n",
            "यो द्वि आत्मा को मेला हो\n",
            "त्यसै ले तिमि... लाइ…\n",
            "आउता चिठी को सहारा ले\n",
            "टिमरो मान जितना चाहन्ना मा\n",
            "माया कागज मा हुन्न\n",
            "यो द्वि आत्मा को मेला हो\n",
            "त्यसै ले तिमि... लाइ…\n",
            "आउता चिठी को सहारा ले\n",
            "टिमरो मान जितना चाहन्डा मा\n",
            "माया कागज मा हुन्द-दा चोगि मछिछिन मै ्को मेला हो\n",
            "त्यसै ले तिमि... लाइ…\n",
            "आउता चिठी को सहारा ले\n",
            "टिमरो मान जितना चाहन्ना मा\n",
            "आउता चिठी को सहारा ले\n",
            "टिमरो मान जितना चाहन्ना मा\n",
            "\n",
            "माया भन्ने संो लास्वार्थी माया बभना मगज मा हुन्न\n",
            "यो द्वि आत्मा को मेला हो\n",
            "त्यसै ले तिमि... लाइ…\n",
            "आउता चिठी को सहारा ले\n",
            "टिमरो मान जितना चाहन्ना मा\n",
            "\n",
            "\n",
            "थाडो जाने उकाली माछडा प्री माया ंछ\n",
            "तिमि ले हो...डाँडा परी मा छौत्रै मा-२\n",
            "चिया बारी मा छौत्रै मा- २\n",
            "चिया बारी मा – २\n",
            "छाउबन्दी चोली रा टिमरो रातो रिबाना\n",
            "ढाका सादी मा मस्केरा हिन्द, चोरौ यो मन\n",
            "उकाली रा ओराली गर्दाइ पन्धेरी मा\n",
            "चोरी मुतु सुतक्का मान को माझेरी मा\n",
            "मा ढेरी मा – २\n",
            "हो...डाँडा परी मा छौत्राई मा-२\n",
            "चिया बारी मा – २\n",
            "छाउबन्दी चोली रा टिमरो रातो रिबाना\n",
            "ढाका सादी मा मस्केरा हिन्द, चोरौ यो मन\n",
            "उकाली रा ओराली गर्दाइ पन्धेरी मा\n",
            "चोरी मुतु सुतक्का मान को माझेरी मा\n",
            "मा ढेरी मा – २\n",
            "हो...डाँडा परी मा छौत्रै मा-२\n",
            "चिया बारी मा – २\n",
            "\n",
            "देउराली को भञ्ज्यागा मै\n",
            "बार पिपल को छहरी मा प्रीति गानसौ ला\n",
            "कान्छी तिमिलै डोली मा छडै पञ्चे बाजा मा\n",
            "लैजाउं ला राखौ ला तिमिलाइ मुतु मेरो मा\n",
            "मुतु माझा मा – २\n",
            "हो...डाँडा परी मा छौत्रै मा-२\n",
            "चिया बारी मा – २\n",
            "छाउबन्दी चोली रा टिमरो रातो रिबाना\n",
            "ढाका सादी मा मस्केरा हिन्द, चोरौ यो मन\n",
            "उकाली रा ओराली गर्दाइ पन्धेरी मा\n",
            "चोरी मुतु सुतक्का मान को माझेरी मा\n",
            "मा ढेरी मा – २\n",
            "हो...डाँडा परी मा छौत्रै मा-२\n",
            "चिया बारी मा – २\n",
            "\n",
            "देउराली को भञ्ज्यागा मै\n",
            "बार पिपल को छहरी मा प्रीति गानसौ ला\n"
          ]
        }
      ]
    },
    {
      "cell_type": "code",
      "source": [],
      "metadata": {
        "id": "fjjvMifYZf7x"
      },
      "execution_count": null,
      "outputs": []
    }
  ]
}